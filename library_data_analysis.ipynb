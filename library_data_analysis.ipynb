{
 "cells": [
  {
   "cell_type": "markdown",
   "metadata": {},
   "source": [
    "This is a notebook of an Exploratory Data Analysis of library records of books borrowed collected  by the SixthSense Initiative at the 5th edition of their Summer Children Reading Camp. This data was collected to get a better understanding of camper book borrowing and reading activity while on camp. This record of the books borrowed  by the campers (ages 8 to 15) during a 7 days the camp. The records include information such as the <strong>cell number</strong> allocated to each camper, <strong>title of the book</strong> borrowed, the <strong>number of pages</strong> the books borrowed has, if a <strong>camper completed a book</strong>, <strong>the number of pages</strong> read, the <strong>time and date the book</strong> was borrowed as well as the <strong>time and date</strong> it was returned."
   ]
  },
  {
   "cell_type": "code",
   "execution_count": 47,
   "metadata": {},
   "outputs": [],
   "source": [
    "# Importing libraries\n",
    "import numpy as np\n",
    "import pandas as pd\n",
    "from scipy.stats import binom\n",
    "import matplotlib.pyplot as plt\n",
    "import seaborn as sns\n",
    "sns.set_style(\"whitegrid\")"
   ]
  },
  {
   "cell_type": "code",
   "execution_count": 48,
   "metadata": {},
   "outputs": [
    {
     "data": {
      "text/html": [
       "<div>\n",
       "<style scoped>\n",
       "    .dataframe tbody tr th:only-of-type {\n",
       "        vertical-align: middle;\n",
       "    }\n",
       "\n",
       "    .dataframe tbody tr th {\n",
       "        vertical-align: top;\n",
       "    }\n",
       "\n",
       "    .dataframe thead th {\n",
       "        text-align: right;\n",
       "    }\n",
       "</style>\n",
       "<table border=\"1\" class=\"dataframe\">\n",
       "  <thead>\n",
       "    <tr style=\"text-align: right;\">\n",
       "      <th></th>\n",
       "      <th>Cell Number</th>\n",
       "      <th>Title of Book Borrowed</th>\n",
       "      <th>Time Borrowed</th>\n",
       "      <th>Number of Book Pages</th>\n",
       "      <th>Finished Book (Y/N)</th>\n",
       "      <th>Pages Read</th>\n",
       "      <th>Time Returned</th>\n",
       "      <th>Date Borrowed</th>\n",
       "      <th>Date Returned</th>\n",
       "    </tr>\n",
       "  </thead>\n",
       "  <tbody>\n",
       "    <tr>\n",
       "      <th>0</th>\n",
       "      <td>C004</td>\n",
       "      <td>The big bells the little bells</td>\n",
       "      <td>12:14</td>\n",
       "      <td>12</td>\n",
       "      <td>Yes</td>\n",
       "      <td>12</td>\n",
       "      <td>17:36</td>\n",
       "      <td>08/08/2022</td>\n",
       "      <td>08/08/2022</td>\n",
       "    </tr>\n",
       "    <tr>\n",
       "      <th>1</th>\n",
       "      <td>B001</td>\n",
       "      <td>I see hope</td>\n",
       "      <td>12:15</td>\n",
       "      <td>36</td>\n",
       "      <td>Yes</td>\n",
       "      <td>36</td>\n",
       "      <td>22:22</td>\n",
       "      <td>08/08/2022</td>\n",
       "      <td>08/08/2022</td>\n",
       "    </tr>\n",
       "    <tr>\n",
       "      <th>2</th>\n",
       "      <td>E003</td>\n",
       "      <td>Babby sitters</td>\n",
       "      <td>12:16</td>\n",
       "      <td>106</td>\n",
       "      <td>Yes</td>\n",
       "      <td>106</td>\n",
       "      <td>07:48</td>\n",
       "      <td>08/08/2022</td>\n",
       "      <td>09/08/2022</td>\n",
       "    </tr>\n",
       "    <tr>\n",
       "      <th>3</th>\n",
       "      <td>E008</td>\n",
       "      <td>Sam nd the night</td>\n",
       "      <td>12:16</td>\n",
       "      <td>12</td>\n",
       "      <td>Yes</td>\n",
       "      <td>12</td>\n",
       "      <td>17:31</td>\n",
       "      <td>08/08/2022</td>\n",
       "      <td>08/08/2022</td>\n",
       "    </tr>\n",
       "    <tr>\n",
       "      <th>4</th>\n",
       "      <td>D003</td>\n",
       "      <td>Justice</td>\n",
       "      <td>12:17</td>\n",
       "      <td>57</td>\n",
       "      <td>Yes</td>\n",
       "      <td>57</td>\n",
       "      <td>19:25</td>\n",
       "      <td>08/08/2022</td>\n",
       "      <td>08/08/2022</td>\n",
       "    </tr>\n",
       "  </tbody>\n",
       "</table>\n",
       "</div>"
      ],
      "text/plain": [
       "  Cell Number          Title of Book Borrowed Time Borrowed  \\\n",
       "0        C004  The big bells the little bells         12:14   \n",
       "1        B001                      I see hope         12:15   \n",
       "2        E003                   Babby sitters         12:16   \n",
       "3        E008                Sam nd the night         12:16   \n",
       "4        D003                         Justice         12:17   \n",
       "\n",
       "   Number of Book Pages Finished Book (Y/N) Pages Read Time Returned  \\\n",
       "0                    12                 Yes         12         17:36   \n",
       "1                    36                 Yes         36         22:22   \n",
       "2                   106                 Yes        106         07:48   \n",
       "3                    12                 Yes         12         17:31   \n",
       "4                    57                 Yes         57         19:25   \n",
       "\n",
       "  Date Borrowed Date Returned  \n",
       "0    08/08/2022    08/08/2022  \n",
       "1    08/08/2022    08/08/2022  \n",
       "2    08/08/2022    09/08/2022  \n",
       "3    08/08/2022    08/08/2022  \n",
       "4    08/08/2022    08/08/2022  "
      ]
     },
     "execution_count": 48,
     "metadata": {},
     "output_type": "execute_result"
    }
   ],
   "source": [
    "# Loading the dataset\n",
    "lib_df = pd.read_csv('Library_Records.csv')\n",
    "lib_df.head()"
   ]
  },
  {
   "cell_type": "code",
   "execution_count": 49,
   "metadata": {},
   "outputs": [
    {
     "data": {
      "text/plain": [
       "(145, 9)"
      ]
     },
     "execution_count": 49,
     "metadata": {},
     "output_type": "execute_result"
    }
   ],
   "source": [
    "# Checking the shape of the dataset\n",
    "lib_df.shape"
   ]
  },
  {
   "cell_type": "code",
   "execution_count": 50,
   "metadata": {},
   "outputs": [
    {
     "data": {
      "text/plain": [
       "Cell Number               object\n",
       "Title of Book Borrowed    object\n",
       "Time Borrowed             object\n",
       "Number of Book Pages       int64\n",
       "Finished Book (Y/N)       object\n",
       "Pages Read                object\n",
       "Time Returned             object\n",
       "Date Borrowed             object\n",
       "Date Returned             object\n",
       "dtype: object"
      ]
     },
     "execution_count": 50,
     "metadata": {},
     "output_type": "execute_result"
    }
   ],
   "source": [
    "# Checking the data types of each column\n",
    "lib_df.dtypes"
   ]
  },
  {
   "cell_type": "markdown",
   "metadata": {},
   "source": [
    "## Data cleaning and feature engineering "
   ]
  },
  {
   "cell_type": "code",
   "execution_count": 51,
   "metadata": {},
   "outputs": [
    {
     "data": {
      "text/plain": [
       "Cell Number                0\n",
       "Title of Book Borrowed     0\n",
       "Time Borrowed              0\n",
       "Number of Book Pages       0\n",
       "Finished Book (Y/N)       13\n",
       "Pages Read                13\n",
       "Time Returned             18\n",
       "Date Borrowed              0\n",
       "Date Returned              6\n",
       "dtype: int64"
      ]
     },
     "execution_count": 51,
     "metadata": {},
     "output_type": "execute_result"
    }
   ],
   "source": [
    "# Checking the missing data\n",
    "lib_df.isnull().sum()"
   ]
  },
  {
   "cell_type": "code",
   "execution_count": 52,
   "metadata": {},
   "outputs": [
    {
     "data": {
      "text/plain": [
       "Index(['cell_number', 'book_title', 'time_borrowed', 'book_length',\n",
       "       'completed_book', 'book_length_read', 'time_returned', 'date_borrowed',\n",
       "       'date_returned'],\n",
       "      dtype='object')"
      ]
     },
     "execution_count": 52,
     "metadata": {},
     "output_type": "execute_result"
    }
   ],
   "source": [
    "# Renaming columns for convinience\n",
    "col_rename = {'Cell Number' : 'cell_number', \n",
    " 'Title of Book Borrowed' : 'book_title',\n",
    " 'Time Borrowed' : 'time_borrowed',\n",
    "'Number of Book Pages' : 'book_length',\n",
    "'Finished Book (Y/N)': 'completed_book',\n",
    "'Pages Read' : 'book_length_read',\n",
    "'Time Returned' : 'time_returned',\n",
    "'Date Borrowed' : 'date_borrowed',\n",
    "'Date Returned' : 'date_returned'}\n",
    "\n",
    "df_lib = lib_df.rename(columns = col_rename)\n",
    "df_lib.columns"
   ]
  },
  {
   "cell_type": "code",
   "execution_count": 53,
   "metadata": {},
   "outputs": [],
   "source": [
    "# Combining the date and time columns and converting them to datetime format\n",
    "df_lib['date_returned'] =  pd.to_datetime(df_lib['date_returned'].str.cat(df_lib['time_returned'], sep=' '))\n",
    "df_lib['date_borrowed'] = pd.to_datetime(df_lib['date_borrowed'].str.cat(df_lib['time_borrowed'], sep=' '))"
   ]
  },
  {
   "cell_type": "code",
   "execution_count": 54,
   "metadata": {},
   "outputs": [],
   "source": [
    "#dropping the date and time columns\n",
    "df_lib.drop('time_borrowed', axis = 1, inplace = True)"
   ]
  },
  {
   "cell_type": "code",
   "execution_count": 55,
   "metadata": {},
   "outputs": [],
   "source": [
    "# Creating the days column\n",
    "import datetime as dt\n",
    "map_day = {8 : 'Monday', 9: 'Tuesday', 10: 'Wednesday', 11: 'Thursday', 12: 'Friday'}\n",
    "df_lib['days_borrowed'] = df_lib['date_borrowed'].dt.month\n",
    "df_lib['days_borrowed'] = df_lib['days_borrowed'].map(map_day)\n",
    "df_lib['borrow_hour'] = df_lib['date_borrowed'].dt.hour"
   ]
  },
  {
   "cell_type": "code",
   "execution_count": 56,
   "metadata": {},
   "outputs": [
    {
     "data": {
      "text/plain": [
       "cell_number                 object\n",
       "book_title                  object\n",
       "book_length                  int64\n",
       "completed_book              object\n",
       "book_length_read            object\n",
       "time_returned               object\n",
       "date_borrowed       datetime64[ns]\n",
       "date_returned       datetime64[ns]\n",
       "days_borrowed               object\n",
       "borrow_hour                  int64\n",
       "dtype: object"
      ]
     },
     "execution_count": 56,
     "metadata": {},
     "output_type": "execute_result"
    }
   ],
   "source": [
    "# Data types of columns\n",
    "df_lib.dtypes"
   ]
  },
  {
   "cell_type": "code",
   "execution_count": 57,
   "metadata": {},
   "outputs": [],
   "source": [
    "# Dealing with missing data and wrong inputs\n",
    "df_lib['book_length_read'] = df_lib['book_length_read'].replace('All', int(4))\n",
    "\n",
    "# There is a typo in the book title column which is about to be replaced\n",
    "df_lib['book_title'] = df_lib['book_title'].str.replace('Babby sitters', 'Baby sitters')\n",
    "\n",
    "# Creating the cell column to get the cell of each camper\n",
    "df_lib['cell'] = df_lib['cell_number'].apply(lambda x: x[0])"
   ]
  },
  {
   "cell_type": "code",
   "execution_count": 58,
   "metadata": {},
   "outputs": [
    {
     "data": {
      "text/html": [
       "<div>\n",
       "<style scoped>\n",
       "    .dataframe tbody tr th:only-of-type {\n",
       "        vertical-align: middle;\n",
       "    }\n",
       "\n",
       "    .dataframe tbody tr th {\n",
       "        vertical-align: top;\n",
       "    }\n",
       "\n",
       "    .dataframe thead th {\n",
       "        text-align: right;\n",
       "    }\n",
       "</style>\n",
       "<table border=\"1\" class=\"dataframe\">\n",
       "  <thead>\n",
       "    <tr style=\"text-align: right;\">\n",
       "      <th></th>\n",
       "      <th>cell_number</th>\n",
       "      <th>book_title</th>\n",
       "      <th>book_length</th>\n",
       "      <th>completed_book</th>\n",
       "      <th>book_length_read</th>\n",
       "      <th>time_returned</th>\n",
       "      <th>date_borrowed</th>\n",
       "      <th>date_returned</th>\n",
       "      <th>days_borrowed</th>\n",
       "      <th>borrow_hour</th>\n",
       "      <th>cell</th>\n",
       "    </tr>\n",
       "  </thead>\n",
       "  <tbody>\n",
       "    <tr>\n",
       "      <th>49</th>\n",
       "      <td>F003</td>\n",
       "      <td>The smart reader level 2</td>\n",
       "      <td>24</td>\n",
       "      <td>NaN</td>\n",
       "      <td>NaN</td>\n",
       "      <td>NaN</td>\n",
       "      <td>2022-09-08 07:46:00</td>\n",
       "      <td>NaT</td>\n",
       "      <td>Tuesday</td>\n",
       "      <td>7</td>\n",
       "      <td>F</td>\n",
       "    </tr>\n",
       "    <tr>\n",
       "      <th>57</th>\n",
       "      <td>B006</td>\n",
       "      <td>Emma's Nightmare</td>\n",
       "      <td>24</td>\n",
       "      <td>NaN</td>\n",
       "      <td>NaN</td>\n",
       "      <td>NaN</td>\n",
       "      <td>2022-09-08 10:13:00</td>\n",
       "      <td>NaT</td>\n",
       "      <td>Tuesday</td>\n",
       "      <td>10</td>\n",
       "      <td>B</td>\n",
       "    </tr>\n",
       "    <tr>\n",
       "      <th>59</th>\n",
       "      <td>B003</td>\n",
       "      <td>The mid-wife's apprentice</td>\n",
       "      <td>122</td>\n",
       "      <td>NaN</td>\n",
       "      <td>NaN</td>\n",
       "      <td>NaN</td>\n",
       "      <td>2022-09-08 10:16:00</td>\n",
       "      <td>NaT</td>\n",
       "      <td>Tuesday</td>\n",
       "      <td>10</td>\n",
       "      <td>B</td>\n",
       "    </tr>\n",
       "    <tr>\n",
       "      <th>61</th>\n",
       "      <td>C008</td>\n",
       "      <td>A warrior for freedom</td>\n",
       "      <td>24</td>\n",
       "      <td>NaN</td>\n",
       "      <td>NaN</td>\n",
       "      <td>NaN</td>\n",
       "      <td>2022-09-08 10:21:00</td>\n",
       "      <td>NaT</td>\n",
       "      <td>Tuesday</td>\n",
       "      <td>10</td>\n",
       "      <td>C</td>\n",
       "    </tr>\n",
       "    <tr>\n",
       "      <th>63</th>\n",
       "      <td>A002</td>\n",
       "      <td>How my body works</td>\n",
       "      <td>28</td>\n",
       "      <td>NaN</td>\n",
       "      <td>NaN</td>\n",
       "      <td>NaN</td>\n",
       "      <td>2022-09-08 11:34:00</td>\n",
       "      <td>NaT</td>\n",
       "      <td>Tuesday</td>\n",
       "      <td>11</td>\n",
       "      <td>A</td>\n",
       "    </tr>\n",
       "    <tr>\n",
       "      <th>66</th>\n",
       "      <td>B001</td>\n",
       "      <td>How my body works</td>\n",
       "      <td>27</td>\n",
       "      <td>NaN</td>\n",
       "      <td>NaN</td>\n",
       "      <td>NaN</td>\n",
       "      <td>2022-09-08 11:40:00</td>\n",
       "      <td>NaT</td>\n",
       "      <td>Tuesday</td>\n",
       "      <td>11</td>\n",
       "      <td>B</td>\n",
       "    </tr>\n",
       "    <tr>\n",
       "      <th>75</th>\n",
       "      <td>B004</td>\n",
       "      <td>How my body works</td>\n",
       "      <td>28</td>\n",
       "      <td>NaN</td>\n",
       "      <td>NaN</td>\n",
       "      <td>NaN</td>\n",
       "      <td>2022-09-08 14:43:00</td>\n",
       "      <td>NaT</td>\n",
       "      <td>Tuesday</td>\n",
       "      <td>14</td>\n",
       "      <td>B</td>\n",
       "    </tr>\n",
       "    <tr>\n",
       "      <th>77</th>\n",
       "      <td>F009</td>\n",
       "      <td>How my body works</td>\n",
       "      <td>27</td>\n",
       "      <td>NaN</td>\n",
       "      <td>NaN</td>\n",
       "      <td>NaN</td>\n",
       "      <td>2022-09-08 14:49:00</td>\n",
       "      <td>NaT</td>\n",
       "      <td>Tuesday</td>\n",
       "      <td>14</td>\n",
       "      <td>F</td>\n",
       "    </tr>\n",
       "    <tr>\n",
       "      <th>78</th>\n",
       "      <td>D003</td>\n",
       "      <td>Uncle Jed's Barbershop</td>\n",
       "      <td>30</td>\n",
       "      <td>NaN</td>\n",
       "      <td>NaN</td>\n",
       "      <td>NaN</td>\n",
       "      <td>2022-09-08 14:54:00</td>\n",
       "      <td>NaT</td>\n",
       "      <td>Tuesday</td>\n",
       "      <td>14</td>\n",
       "      <td>D</td>\n",
       "    </tr>\n",
       "    <tr>\n",
       "      <th>84</th>\n",
       "      <td>F008</td>\n",
       "      <td>Segun keeps his promise</td>\n",
       "      <td>8</td>\n",
       "      <td>NaN</td>\n",
       "      <td>NaN</td>\n",
       "      <td>NaN</td>\n",
       "      <td>2022-09-08 17:50:00</td>\n",
       "      <td>NaT</td>\n",
       "      <td>Tuesday</td>\n",
       "      <td>17</td>\n",
       "      <td>F</td>\n",
       "    </tr>\n",
       "    <tr>\n",
       "      <th>103</th>\n",
       "      <td>D008</td>\n",
       "      <td>How my body works</td>\n",
       "      <td>27</td>\n",
       "      <td>NaN</td>\n",
       "      <td>NaN</td>\n",
       "      <td>NaN</td>\n",
       "      <td>2022-10-08 10:33:00</td>\n",
       "      <td>NaT</td>\n",
       "      <td>Wednesday</td>\n",
       "      <td>10</td>\n",
       "      <td>D</td>\n",
       "    </tr>\n",
       "    <tr>\n",
       "      <th>117</th>\n",
       "      <td>D007</td>\n",
       "      <td>I see hope</td>\n",
       "      <td>36</td>\n",
       "      <td>NaN</td>\n",
       "      <td>NaN</td>\n",
       "      <td>NaN</td>\n",
       "      <td>2022-10-08 12:33:00</td>\n",
       "      <td>NaT</td>\n",
       "      <td>Wednesday</td>\n",
       "      <td>12</td>\n",
       "      <td>D</td>\n",
       "    </tr>\n",
       "    <tr>\n",
       "      <th>143</th>\n",
       "      <td>B002</td>\n",
       "      <td>Funerals and fly fishing</td>\n",
       "      <td>148</td>\n",
       "      <td>NaN</td>\n",
       "      <td>NaN</td>\n",
       "      <td>NaN</td>\n",
       "      <td>2022-12-08 06:15:00</td>\n",
       "      <td>NaT</td>\n",
       "      <td>Friday</td>\n",
       "      <td>6</td>\n",
       "      <td>B</td>\n",
       "    </tr>\n",
       "  </tbody>\n",
       "</table>\n",
       "</div>"
      ],
      "text/plain": [
       "    cell_number                 book_title  book_length completed_book  \\\n",
       "49         F003   The smart reader level 2           24            NaN   \n",
       "57         B006           Emma's Nightmare           24            NaN   \n",
       "59         B003  The mid-wife's apprentice          122            NaN   \n",
       "61         C008      A warrior for freedom           24            NaN   \n",
       "63         A002          How my body works           28            NaN   \n",
       "66         B001          How my body works           27            NaN   \n",
       "75         B004          How my body works           28            NaN   \n",
       "77         F009          How my body works           27            NaN   \n",
       "78         D003     Uncle Jed's Barbershop           30            NaN   \n",
       "84         F008    Segun keeps his promise            8            NaN   \n",
       "103        D008          How my body works           27            NaN   \n",
       "117        D007                 I see hope           36            NaN   \n",
       "143        B002   Funerals and fly fishing          148            NaN   \n",
       "\n",
       "    book_length_read time_returned       date_borrowed date_returned  \\\n",
       "49               NaN           NaN 2022-09-08 07:46:00           NaT   \n",
       "57               NaN           NaN 2022-09-08 10:13:00           NaT   \n",
       "59               NaN           NaN 2022-09-08 10:16:00           NaT   \n",
       "61               NaN           NaN 2022-09-08 10:21:00           NaT   \n",
       "63               NaN           NaN 2022-09-08 11:34:00           NaT   \n",
       "66               NaN           NaN 2022-09-08 11:40:00           NaT   \n",
       "75               NaN           NaN 2022-09-08 14:43:00           NaT   \n",
       "77               NaN           NaN 2022-09-08 14:49:00           NaT   \n",
       "78               NaN           NaN 2022-09-08 14:54:00           NaT   \n",
       "84               NaN           NaN 2022-09-08 17:50:00           NaT   \n",
       "103              NaN           NaN 2022-10-08 10:33:00           NaT   \n",
       "117              NaN           NaN 2022-10-08 12:33:00           NaT   \n",
       "143              NaN           NaN 2022-12-08 06:15:00           NaT   \n",
       "\n",
       "    days_borrowed  borrow_hour cell  \n",
       "49        Tuesday            7    F  \n",
       "57        Tuesday           10    B  \n",
       "59        Tuesday           10    B  \n",
       "61        Tuesday           10    C  \n",
       "63        Tuesday           11    A  \n",
       "66        Tuesday           11    B  \n",
       "75        Tuesday           14    B  \n",
       "77        Tuesday           14    F  \n",
       "78        Tuesday           14    D  \n",
       "84        Tuesday           17    F  \n",
       "103     Wednesday           10    D  \n",
       "117     Wednesday           12    D  \n",
       "143        Friday            6    B  "
      ]
     },
     "execution_count": 58,
     "metadata": {},
     "output_type": "execute_result"
    }
   ],
   "source": [
    "# The null values wuth regards to the number of book pages\n",
    "df_lib[df_lib['book_length_read'].isna()]"
   ]
  },
  {
   "cell_type": "code",
   "execution_count": 59,
   "metadata": {},
   "outputs": [
    {
     "data": {
      "text/plain": [
       "29.0"
      ]
     },
     "execution_count": 59,
     "metadata": {},
     "output_type": "execute_result"
    }
   ],
   "source": [
    "len(df_lib['days_borrowed'])/5"
   ]
  },
  {
   "cell_type": "markdown",
   "metadata": {},
   "source": [
    "# Exploring the data"
   ]
  },
  {
   "cell_type": "markdown",
   "metadata": {},
   "source": [
    "The camp population distribution by age and gender is looked at but firstly, there is need to import the dataset containing the two columns and merging it with the library data"
   ]
  },
  {
   "cell_type": "code",
   "execution_count": 60,
   "metadata": {},
   "outputs": [],
   "source": [
    "# importing the age and gender dataset\n",
    "age_gender = pd.read_csv('gender_age_cell.csv')\n",
    "age_gender['Cell'] = age_gender.Cell.str.replace(\" \", \"\")\n",
    "age_gender['Gender'] = age_gender.Gender.str.strip()"
   ]
  },
  {
   "cell_type": "code",
   "execution_count": 61,
   "metadata": {},
   "outputs": [
    {
     "data": {
      "image/png": "[encoded data removed]",
      "text/plain": [
       "<Figure size 720x360 with 1 Axes>"
      ]
     },
     "metadata": {},
     "output_type": "display_data"
    }
   ],
   "source": [
    "# Number of male and female campers\n",
    "plt.figure(figsize = (10, 5))\n",
    "sns.countplot(data = age_gender, x = 'Gender')\n",
    "plt.xlabel('Gender', fontsize = 12)\n",
    "plt.ylabel('Number of books returned', fontsize = 12)\n",
    "plt.title('Gender population of camp', fontsize = 20)\n",
    "plt.show()"
   ]
  },
  {
   "cell_type": "code",
   "execution_count": 62,
   "metadata": {},
   "outputs": [
    {
     "data": {
      "image/png": "[encoded data removed]",
      "text/plain": [
       "<Figure size 432x288 with 1 Axes>"
      ]
     },
     "metadata": {},
     "output_type": "display_data"
    }
   ],
   "source": [
    "#Age distribution of campers\n",
    "age_gender.Age.hist(bins = 4)\n",
    "plt.show()"
   ]
  },
  {
   "cell_type": "markdown",
   "metadata": {},
   "source": [
    "As seen above there are more male campers than female campers and the age of the campers is fairly evenly distributed between ages 8 and 15."
   ]
  },
  {
   "cell_type": "code",
   "execution_count": 63,
   "metadata": {},
   "outputs": [],
   "source": [
    "# Merging the age and gender column to the library table\n",
    "lib_age_gender = df_lib.merge(age_gender, left_on = 'cell_number', right_on = 'Cell', how = 'left')\n",
    "lib_age_gender.drop('Cell', inplace = True, axis = 1)"
   ]
  },
  {
   "cell_type": "code",
   "execution_count": 64,
   "metadata": {},
   "outputs": [
    {
     "name": "stdout",
     "output_type": "stream",
     "text": [
      "(121, 13)\n"
     ]
    }
   ],
   "source": [
    "# Filtering out rows that have no time returned\n",
    "filtered = lib_age_gender[~lib_age_gender['time_returned'].isnull()]\n",
    "filtered = filtered[filtered['cell_number'] != 'Volunteer']\n",
    "filtered['book_length_read'] = filtered['book_length_read'].astype('int')\n",
    "print(filtered.shape)"
   ]
  },
  {
   "cell_type": "code",
   "execution_count": 65,
   "metadata": {
    "scrolled": false
   },
   "outputs": [
    {
     "name": "stdout",
     "output_type": "stream",
     "text": [
      "the number of books borrowed: 61 \n",
      "\n",
      "['The big bells the little bells' 'I see hope' 'Baby sitters'\n",
      " 'Sam nd the night' 'Justice' 'Tack against Time' 'Teaching Children'\n",
      " 'The smart reader' 'The night before' 'The power twins' 'The Mona Lisa'\n",
      " 'Pom pom' 'The big log' 'Bambi Grows up' 'The smart reader level 2'\n",
      " 'On my honor' 'Goodbye mummy' \"Emma's Nightmare\" 'Barista Unleashed'\n",
      " 'The day boy & night girl' \"Uncle Jed's Barbershop\" 'Is anybody there'\n",
      " \"Nafi's song\" 'The education of M.B' 'The bones book' 'Smart reader'\n",
      " 'The acorn people' 'Eagles Patch' 'The call of the wild'\n",
      " 'Patrick Doyle is full of B.' 'The Pharohs of ancient Egypt'\n",
      " \"Who's there\" 'Daniel Boone' \"The mid-wife's apprentice\" 'Molly Donnelly'\n",
      " 'Inter-millennial verses' 'The bones and skeleton'\n",
      " 'Funerals and fly fishing' 'Murder in cabin A-13' 'Hannah Montana'\n",
      " 'Abimbolu' 'Segun keeps his promise' 'Newspaper' 'How my body works'\n",
      " 'The middlemen' 'Segun the peace keeper' 'Segun the hard worker'\n",
      " 'Hide & go boo' 'Sharing Susan' 'Big log' 'The adventures of huckleberry'\n",
      " 'The night before christmas' \"The bear's new baby\" 'Tales of childhood'\n",
      " 'Parenting the teen' 'Bambi & the butterfly' 'Babara Bush' 'Dancing home'\n",
      " 'Midwife Apprentice' \"Julie's wolf pack\" 'The Trespasser']\n"
     ]
    }
   ],
   "source": [
    "# Books and number of books borrowed\n",
    "print('the number of books borrowed: '  + str(filtered['book_title'].nunique()), '\\n')\n",
    "print(filtered['book_title'].unique())"
   ]
  },
  {
   "cell_type": "code",
   "execution_count": 66,
   "metadata": {},
   "outputs": [
    {
     "name": "stdout",
     "output_type": "stream",
     "text": [
      "22\n",
      "99\n"
     ]
    }
   ],
   "source": [
    "#The most borrowed book and were most of the books borrowed finished all the time?\n",
    "most_borrowed_books = pd.crosstab(filtered['book_title'], filtered['completed_book']).sort_values('Yes', ascending = False)\n",
    "most_borrowed_books['borrowed_count'] = most_borrowed_books['No'] + most_borrowed_books['Yes']\n",
    "print(most_borrowed_books['No'].sum())\n",
    "print(most_borrowed_books['Yes'].sum())"
   ]
  },
  {
   "cell_type": "code",
   "execution_count": 67,
   "metadata": {},
   "outputs": [
    {
     "name": "stdout",
     "output_type": "stream",
     "text": [
      "17\n",
      "63\n"
     ]
    }
   ],
   "source": [
    "# Filtering out rows 0f books borrowed by volunteers\n",
    "dest = lib_age_gender[lib_age_gender['cell_number'] != 'Volunteer']\n",
    "nesw = dest[~dest['time_returned'].isnull()]\n",
    "print(dest.shape[0] - nesw.shape[0])\n",
    "print(dest['book_title'].nunique())"
   ]
  },
  {
   "cell_type": "markdown",
   "metadata": {},
   "source": [
    "Of the 200 different books made available in the Library, books were borrowed 63 were borrowed and of the 138 times books were borrowed and returned by campers, the books were not read to completion 17 times."
   ]
  },
  {
   "cell_type": "code",
   "execution_count": 68,
   "metadata": {},
   "outputs": [
    {
     "data": {
      "image/png": "[encoded data removed]",
      "text/plain": [
       "<Figure size 432x288 with 1 Axes>"
      ]
     },
     "metadata": {},
     "output_type": "display_data"
    }
   ],
   "source": [
    "# Plot showing number of books copleted or not\n",
    "sns.countplot(data = filtered, x = 'completed_book')\n",
    "plt.xlabel('Completed book', fontsize = 12)\n",
    "plt.ylabel('Number of books', fontsize = 12)\n",
    "plt.title('Number of books borrowed by book completion', fontsize = 20)\n",
    "\n",
    "plt.show()"
   ]
  },
  {
   "cell_type": "code",
   "execution_count": 69,
   "metadata": {},
   "outputs": [
    {
     "data": {
      "text/html": [
       "<div>\n",
       "<style scoped>\n",
       "    .dataframe tbody tr th:only-of-type {\n",
       "        vertical-align: middle;\n",
       "    }\n",
       "\n",
       "    .dataframe tbody tr th {\n",
       "        vertical-align: top;\n",
       "    }\n",
       "\n",
       "    .dataframe thead th {\n",
       "        text-align: right;\n",
       "    }\n",
       "</style>\n",
       "<table border=\"1\" class=\"dataframe\">\n",
       "  <thead>\n",
       "    <tr style=\"text-align: right;\">\n",
       "      <th></th>\n",
       "      <th>c_number</th>\n",
       "    </tr>\n",
       "    <tr>\n",
       "      <th>cell_number</th>\n",
       "      <th></th>\n",
       "    </tr>\n",
       "  </thead>\n",
       "  <tbody>\n",
       "    <tr>\n",
       "      <th>E003</th>\n",
       "      <td>7</td>\n",
       "    </tr>\n",
       "    <tr>\n",
       "      <th>E008</th>\n",
       "      <td>7</td>\n",
       "    </tr>\n",
       "    <tr>\n",
       "      <th>E001</th>\n",
       "      <td>6</td>\n",
       "    </tr>\n",
       "    <tr>\n",
       "      <th>D002</th>\n",
       "      <td>5</td>\n",
       "    </tr>\n",
       "    <tr>\n",
       "      <th>C004</th>\n",
       "      <td>5</td>\n",
       "    </tr>\n",
       "  </tbody>\n",
       "</table>\n",
       "</div>"
      ],
      "text/plain": [
       "             c_number\n",
       "cell_number          \n",
       "E003                7\n",
       "E008                7\n",
       "E001                6\n",
       "D002                5\n",
       "C004                5"
      ]
     },
     "metadata": {},
     "output_type": "display_data"
    },
    {
     "data": {
      "text/html": [
       "<div>\n",
       "<style scoped>\n",
       "    .dataframe tbody tr th:only-of-type {\n",
       "        vertical-align: middle;\n",
       "    }\n",
       "\n",
       "    .dataframe tbody tr th {\n",
       "        vertical-align: top;\n",
       "    }\n",
       "\n",
       "    .dataframe thead th {\n",
       "        text-align: right;\n",
       "    }\n",
       "</style>\n",
       "<table border=\"1\" class=\"dataframe\">\n",
       "  <thead>\n",
       "    <tr style=\"text-align: right;\">\n",
       "      <th></th>\n",
       "      <th>c_number</th>\n",
       "    </tr>\n",
       "    <tr>\n",
       "      <th>cell_number</th>\n",
       "      <th></th>\n",
       "    </tr>\n",
       "  </thead>\n",
       "  <tbody>\n",
       "    <tr>\n",
       "      <th>B006</th>\n",
       "      <td>1</td>\n",
       "    </tr>\n",
       "    <tr>\n",
       "      <th>C003</th>\n",
       "      <td>1</td>\n",
       "    </tr>\n",
       "    <tr>\n",
       "      <th>C006</th>\n",
       "      <td>1</td>\n",
       "    </tr>\n",
       "    <tr>\n",
       "      <th>D008</th>\n",
       "      <td>1</td>\n",
       "    </tr>\n",
       "    <tr>\n",
       "      <th>D001</th>\n",
       "      <td>1</td>\n",
       "    </tr>\n",
       "  </tbody>\n",
       "</table>\n",
       "</div>"
      ],
      "text/plain": [
       "             c_number\n",
       "cell_number          \n",
       "B006                1\n",
       "C003                1\n",
       "C006                1\n",
       "D008                1\n",
       "D001                1"
      ]
     },
     "metadata": {},
     "output_type": "display_data"
    }
   ],
   "source": [
    "# Campers with the highest and lowest amount of books borrowed\n",
    "number_books_read = filtered.groupby('cell_number').agg({'cell_number': 'count'})\\\n",
    ".rename(columns = {'cell_number': 'c_number'})\\\n",
    ".sort_values('c_number', ascending = False)\n",
    "top_ten = number_books_read[1:10]\n",
    "bottom_ten = number_books_read[-10:]\n",
    "display(number_books_read.head())\n",
    "display(number_books_read.tail())"
   ]
  },
  {
   "cell_type": "code",
   "execution_count": 70,
   "metadata": {},
   "outputs": [
    {
     "data": {
      "image/png": "[encoded data removed]",
      "text/plain": [
       "<Figure size 864x432 with 1 Axes>"
      ]
     },
     "metadata": {},
     "output_type": "display_data"
    }
   ],
   "source": [
    "# Period of the day when books were borrowed\n",
    "dest = []\n",
    "for x in filtered.borrow_hour.values:\n",
    "    if x <= 11.9:\n",
    "        dest.append('morning')\n",
    "    elif x <= 17.9:\n",
    "        dest.append('afternoon')\n",
    "    else:\n",
    "        dest.append('evening')\n",
    "plt.figure(figsize = (12, 6))\n",
    "sns.countplot(x = dest)\n",
    "plt.xlabel('Period of day', fontsize = 12)\n",
    "plt.ylabel('Number of books borrowed', fontsize = 12)\n",
    "plt.title('Number of books borrowed by Period of day', fontsize = 20)\n",
    "plt.show()"
   ]
  },
  {
   "cell_type": "code",
   "execution_count": 71,
   "metadata": {},
   "outputs": [
    {
     "data": {
      "image/png": "[encoded data removed]",
      "text/plain": [
       "<Figure size 864x432 with 1 Axes>"
      ]
     },
     "metadata": {},
     "output_type": "display_data"
    }
   ],
   "source": [
    "# Period of the day when books were returned\n",
    "return_hour = filtered['date_returned'].dt.hour\n",
    "dest = []\n",
    "for x in return_hour.sort_values().values:\n",
    "    if x <= 11.9:\n",
    "        dest.append('morning')\n",
    "    elif x <= 17.9:\n",
    "        dest.append('afternoon')\n",
    "    else:\n",
    "        dest.append('evening')\n",
    "plt.figure(figsize = (12, 6))\n",
    "sns.countplot(x = dest)\n",
    "plt.xlabel('Period of day', fontsize = 12)\n",
    "plt.ylabel('Number of books returned', fontsize = 12)\n",
    "plt.title('Number of books returned by Period of day', fontsize = 20)\n",
    "plt.show()"
   ]
  },
  {
   "cell_type": "code",
   "execution_count": 73,
   "metadata": {
    "scrolled": false
   },
   "outputs": [
    {
     "data": {
      "text/html": [
       "<div>\n",
       "<style scoped>\n",
       "    .dataframe tbody tr th:only-of-type {\n",
       "        vertical-align: middle;\n",
       "    }\n",
       "\n",
       "    .dataframe tbody tr th {\n",
       "        vertical-align: top;\n",
       "    }\n",
       "\n",
       "    .dataframe thead th {\n",
       "        text-align: right;\n",
       "    }\n",
       "</style>\n",
       "<table border=\"1\" class=\"dataframe\">\n",
       "  <thead>\n",
       "    <tr style=\"text-align: right;\">\n",
       "      <th></th>\n",
       "      <th>Gender</th>\n",
       "      <th>number_of_books_borrowed</th>\n",
       "      <th>number_of_pages_read</th>\n",
       "    </tr>\n",
       "  </thead>\n",
       "  <tbody>\n",
       "    <tr>\n",
       "      <th>0</th>\n",
       "      <td>Female</td>\n",
       "      <td>69</td>\n",
       "      <td>43.0</td>\n",
       "    </tr>\n",
       "    <tr>\n",
       "      <th>1</th>\n",
       "      <td>Male</td>\n",
       "      <td>52</td>\n",
       "      <td>64.0</td>\n",
       "    </tr>\n",
       "  </tbody>\n",
       "</table>\n",
       "</div>"
      ],
      "text/plain": [
       "   Gender  number_of_books_borrowed  number_of_pages_read\n",
       "0  Female                        69                  43.0\n",
       "1    Male                        52                  64.0"
      ]
     },
     "metadata": {},
     "output_type": "display_data"
    },
    {
     "data": {
      "text/plain": [
       "<Figure size 864x432 with 0 Axes>"
      ]
     },
     "metadata": {},
     "output_type": "display_data"
    },
    {
     "data": {
      "image/png": "[encoded data removed]",
      "text/plain": [
       "<Figure size 432x864 with 2 Axes>"
      ]
     },
     "metadata": {},
     "output_type": "display_data"
    }
   ],
   "source": [
    "# The total amount of books read by each gender and and total pages red\n",
    "gender_read = filtered.groupby('Gender').agg({'Gender':'count', 'book_length_read': 'mean'})\\\n",
    ".rename(columns = {'Gender': 'number_of_books_borrowed', 'book_length_read': 'number_of_pages_read'})\\\n",
    ".reset_index().round()\n",
    "\n",
    "display(gender_read)\n",
    "\n",
    "# A plot of books borrowed and pages read by gender \n",
    "plt.figure(figsize = (12, 6))\n",
    "gender_read.plot(kind = 'bar', x = 'Gender', subplots = True, figsize = (6, 12), rot = 0)\n",
    "plt.xlabel('Gender', fontsize = 12)\n",
    "plt.ylabel('Number of books borrowed', fontsize = 12)\n",
    "plt.show();"
   ]
  },
  {
   "cell_type": "code",
   "execution_count": 74,
   "metadata": {},
   "outputs": [
    {
     "data": {
      "text/html": [
       "<div>\n",
       "<style scoped>\n",
       "    .dataframe tbody tr th:only-of-type {\n",
       "        vertical-align: middle;\n",
       "    }\n",
       "\n",
       "    .dataframe tbody tr th {\n",
       "        vertical-align: top;\n",
       "    }\n",
       "\n",
       "    .dataframe thead th {\n",
       "        text-align: right;\n",
       "    }\n",
       "</style>\n",
       "<table border=\"1\" class=\"dataframe\">\n",
       "  <thead>\n",
       "    <tr style=\"text-align: right;\">\n",
       "      <th></th>\n",
       "      <th>number_of_times_books_were_borrowed</th>\n",
       "      <th>book_length_read</th>\n",
       "    </tr>\n",
       "    <tr>\n",
       "      <th>Age</th>\n",
       "      <th></th>\n",
       "      <th></th>\n",
       "    </tr>\n",
       "  </thead>\n",
       "  <tbody>\n",
       "    <tr>\n",
       "      <th>14.0</th>\n",
       "      <td>6</td>\n",
       "      <td>85.0</td>\n",
       "    </tr>\n",
       "    <tr>\n",
       "      <th>15.0</th>\n",
       "      <td>6</td>\n",
       "      <td>63.0</td>\n",
       "    </tr>\n",
       "    <tr>\n",
       "      <th>9.0</th>\n",
       "      <td>12</td>\n",
       "      <td>48.0</td>\n",
       "    </tr>\n",
       "    <tr>\n",
       "      <th>13.0</th>\n",
       "      <td>13</td>\n",
       "      <td>49.0</td>\n",
       "    </tr>\n",
       "    <tr>\n",
       "      <th>12.0</th>\n",
       "      <td>18</td>\n",
       "      <td>78.0</td>\n",
       "    </tr>\n",
       "    <tr>\n",
       "      <th>10.0</th>\n",
       "      <td>21</td>\n",
       "      <td>56.0</td>\n",
       "    </tr>\n",
       "    <tr>\n",
       "      <th>11.0</th>\n",
       "      <td>21</td>\n",
       "      <td>45.0</td>\n",
       "    </tr>\n",
       "    <tr>\n",
       "      <th>8.0</th>\n",
       "      <td>24</td>\n",
       "      <td>26.0</td>\n",
       "    </tr>\n",
       "  </tbody>\n",
       "</table>\n",
       "</div>"
      ],
      "text/plain": [
       "      number_of_times_books_were_borrowed  book_length_read\n",
       "Age                                                        \n",
       "14.0                                    6              85.0\n",
       "15.0                                    6              63.0\n",
       "9.0                                    12              48.0\n",
       "13.0                                   13              49.0\n",
       "12.0                                   18              78.0\n",
       "10.0                                   21              56.0\n",
       "11.0                                   21              45.0\n",
       "8.0                                    24              26.0"
      ]
     },
     "execution_count": 74,
     "metadata": {},
     "output_type": "execute_result"
    }
   ],
   "source": [
    "# The average book read\n",
    "age_filt = filtered.groupby('Age').agg({'Age':'count', 'book_length_read': 'mean'})\\\n",
    ".rename(columns = {'Age': 'number_of_times_books_were_borrowed'}).sort_values('number_of_times_books_were_borrowed')\\\n",
    ".round()\n",
    "age_filt"
   ]
  },
  {
   "cell_type": "code",
   "execution_count": 75,
   "metadata": {},
   "outputs": [
    {
     "data": {
      "text/html": [
       "<div>\n",
       "<style scoped>\n",
       "    .dataframe tbody tr th:only-of-type {\n",
       "        vertical-align: middle;\n",
       "    }\n",
       "\n",
       "    .dataframe tbody tr th {\n",
       "        vertical-align: top;\n",
       "    }\n",
       "\n",
       "    .dataframe thead tr th {\n",
       "        text-align: left;\n",
       "    }\n",
       "\n",
       "    .dataframe thead tr:last-of-type th {\n",
       "        text-align: right;\n",
       "    }\n",
       "</style>\n",
       "<table border=\"1\" class=\"dataframe\">\n",
       "  <thead>\n",
       "    <tr>\n",
       "      <th></th>\n",
       "      <th colspan=\"8\" halign=\"left\">Gender</th>\n",
       "    </tr>\n",
       "    <tr>\n",
       "      <th>Age</th>\n",
       "      <th>8.0</th>\n",
       "      <th>9.0</th>\n",
       "      <th>10.0</th>\n",
       "      <th>11.0</th>\n",
       "      <th>12.0</th>\n",
       "      <th>13.0</th>\n",
       "      <th>14.0</th>\n",
       "      <th>15.0</th>\n",
       "    </tr>\n",
       "    <tr>\n",
       "      <th>Gender</th>\n",
       "      <th></th>\n",
       "      <th></th>\n",
       "      <th></th>\n",
       "      <th></th>\n",
       "      <th></th>\n",
       "      <th></th>\n",
       "      <th></th>\n",
       "      <th></th>\n",
       "    </tr>\n",
       "  </thead>\n",
       "  <tbody>\n",
       "    <tr>\n",
       "      <th>Female</th>\n",
       "      <td>18</td>\n",
       "      <td>8</td>\n",
       "      <td>10</td>\n",
       "      <td>13</td>\n",
       "      <td>6</td>\n",
       "      <td>6</td>\n",
       "      <td>5</td>\n",
       "      <td>3</td>\n",
       "    </tr>\n",
       "    <tr>\n",
       "      <th>Male</th>\n",
       "      <td>6</td>\n",
       "      <td>4</td>\n",
       "      <td>11</td>\n",
       "      <td>8</td>\n",
       "      <td>12</td>\n",
       "      <td>7</td>\n",
       "      <td>1</td>\n",
       "      <td>3</td>\n",
       "    </tr>\n",
       "  </tbody>\n",
       "</table>\n",
       "</div>"
      ],
      "text/plain": [
       "       Gender                                   \n",
       "Age      8.0  9.0  10.0 11.0 12.0 13.0 14.0 15.0\n",
       "Gender                                          \n",
       "Female     18    8   10   13    6    6    5    3\n",
       "Male        6    4   11    8   12    7    1    3"
      ]
     },
     "execution_count": 75,
     "metadata": {},
     "output_type": "execute_result"
    }
   ],
   "source": [
    "# Age distribution by Gender\n",
    "filtered.groupby(['Gender','Age']).agg({'Gender': 'count'}).round().unstack()"
   ]
  },
  {
   "cell_type": "code",
   "execution_count": 76,
   "metadata": {},
   "outputs": [
    {
     "data": {
      "text/html": [
       "<div>\n",
       "<style scoped>\n",
       "    .dataframe tbody tr th:only-of-type {\n",
       "        vertical-align: middle;\n",
       "    }\n",
       "\n",
       "    .dataframe tbody tr th {\n",
       "        vertical-align: top;\n",
       "    }\n",
       "\n",
       "    .dataframe thead tr th {\n",
       "        text-align: left;\n",
       "    }\n",
       "\n",
       "    .dataframe thead tr:last-of-type th {\n",
       "        text-align: right;\n",
       "    }\n",
       "</style>\n",
       "<table border=\"1\" class=\"dataframe\">\n",
       "  <thead>\n",
       "    <tr>\n",
       "      <th></th>\n",
       "      <th colspan=\"6\" halign=\"left\">Gender</th>\n",
       "    </tr>\n",
       "    <tr>\n",
       "      <th>cell</th>\n",
       "      <th>A</th>\n",
       "      <th>B</th>\n",
       "      <th>C</th>\n",
       "      <th>D</th>\n",
       "      <th>E</th>\n",
       "      <th>F</th>\n",
       "    </tr>\n",
       "    <tr>\n",
       "      <th>Gender</th>\n",
       "      <th></th>\n",
       "      <th></th>\n",
       "      <th></th>\n",
       "      <th></th>\n",
       "      <th></th>\n",
       "      <th></th>\n",
       "    </tr>\n",
       "  </thead>\n",
       "  <tbody>\n",
       "    <tr>\n",
       "      <th>Female</th>\n",
       "      <td>9</td>\n",
       "      <td>7</td>\n",
       "      <td>10</td>\n",
       "      <td>9</td>\n",
       "      <td>24</td>\n",
       "      <td>10</td>\n",
       "    </tr>\n",
       "    <tr>\n",
       "      <th>Male</th>\n",
       "      <td>8</td>\n",
       "      <td>8</td>\n",
       "      <td>10</td>\n",
       "      <td>10</td>\n",
       "      <td>8</td>\n",
       "      <td>8</td>\n",
       "    </tr>\n",
       "  </tbody>\n",
       "</table>\n",
       "</div>"
      ],
      "text/plain": [
       "       Gender                   \n",
       "cell        A  B   C   D   E   F\n",
       "Gender                          \n",
       "Female      9  7  10   9  24  10\n",
       "Male        8  8  10  10   8   8"
      ]
     },
     "execution_count": 76,
     "metadata": {},
     "output_type": "execute_result"
    }
   ],
   "source": [
    "# Age distribution by gender and cell\n",
    "filtered.groupby(['Gender','cell']).agg({'Gender': 'count'}).round().unstack()"
   ]
  },
  {
   "cell_type": "code",
   "execution_count": 77,
   "metadata": {},
   "outputs": [
    {
     "data": {
      "text/html": [
       "<div>\n",
       "<style scoped>\n",
       "    .dataframe tbody tr th:only-of-type {\n",
       "        vertical-align: middle;\n",
       "    }\n",
       "\n",
       "    .dataframe tbody tr th {\n",
       "        vertical-align: top;\n",
       "    }\n",
       "\n",
       "    .dataframe thead tr th {\n",
       "        text-align: left;\n",
       "    }\n",
       "\n",
       "    .dataframe thead tr:last-of-type th {\n",
       "        text-align: right;\n",
       "    }\n",
       "</style>\n",
       "<table border=\"1\" class=\"dataframe\">\n",
       "  <thead>\n",
       "    <tr>\n",
       "      <th></th>\n",
       "      <th colspan=\"8\" halign=\"left\">book_length_read</th>\n",
       "    </tr>\n",
       "    <tr>\n",
       "      <th>Age</th>\n",
       "      <th>8.0</th>\n",
       "      <th>9.0</th>\n",
       "      <th>10.0</th>\n",
       "      <th>11.0</th>\n",
       "      <th>12.0</th>\n",
       "      <th>13.0</th>\n",
       "      <th>14.0</th>\n",
       "      <th>15.0</th>\n",
       "    </tr>\n",
       "    <tr>\n",
       "      <th>Gender</th>\n",
       "      <th></th>\n",
       "      <th></th>\n",
       "      <th></th>\n",
       "      <th></th>\n",
       "      <th></th>\n",
       "      <th></th>\n",
       "      <th></th>\n",
       "      <th></th>\n",
       "    </tr>\n",
       "  </thead>\n",
       "  <tbody>\n",
       "    <tr>\n",
       "      <th>Female</th>\n",
       "      <td>28.0</td>\n",
       "      <td>28.0</td>\n",
       "      <td>40.0</td>\n",
       "      <td>42.0</td>\n",
       "      <td>60.0</td>\n",
       "      <td>41.0</td>\n",
       "      <td>80.0</td>\n",
       "      <td>84.0</td>\n",
       "    </tr>\n",
       "    <tr>\n",
       "      <th>Male</th>\n",
       "      <td>18.0</td>\n",
       "      <td>86.0</td>\n",
       "      <td>71.0</td>\n",
       "      <td>50.0</td>\n",
       "      <td>87.0</td>\n",
       "      <td>56.0</td>\n",
       "      <td>110.0</td>\n",
       "      <td>42.0</td>\n",
       "    </tr>\n",
       "  </tbody>\n",
       "</table>\n",
       "</div>"
      ],
      "text/plain": [
       "       book_length_read                                           \n",
       "Age                8.0   9.0   10.0  11.0  12.0  13.0   14.0  15.0\n",
       "Gender                                                            \n",
       "Female             28.0  28.0  40.0  42.0  60.0  41.0   80.0  84.0\n",
       "Male               18.0  86.0  71.0  50.0  87.0  56.0  110.0  42.0"
      ]
     },
     "execution_count": 77,
     "metadata": {},
     "output_type": "execute_result"
    }
   ],
   "source": [
    "# Number of book pages read by age and gender \n",
    "filtered.groupby(['Gender','Age']).agg({'book_length_read': 'mean'}).round().unstack()"
   ]
  },
  {
   "cell_type": "code",
   "execution_count": 78,
   "metadata": {},
   "outputs": [
    {
     "data": {
      "text/html": [
       "<div>\n",
       "<style scoped>\n",
       "    .dataframe tbody tr th:only-of-type {\n",
       "        vertical-align: middle;\n",
       "    }\n",
       "\n",
       "    .dataframe tbody tr th {\n",
       "        vertical-align: top;\n",
       "    }\n",
       "\n",
       "    .dataframe thead tr th {\n",
       "        text-align: left;\n",
       "    }\n",
       "\n",
       "    .dataframe thead tr:last-of-type th {\n",
       "        text-align: right;\n",
       "    }\n",
       "</style>\n",
       "<table border=\"1\" class=\"dataframe\">\n",
       "  <thead>\n",
       "    <tr>\n",
       "      <th></th>\n",
       "      <th colspan=\"6\" halign=\"left\">book_length_read</th>\n",
       "    </tr>\n",
       "    <tr>\n",
       "      <th>cell</th>\n",
       "      <th>A</th>\n",
       "      <th>B</th>\n",
       "      <th>C</th>\n",
       "      <th>D</th>\n",
       "      <th>E</th>\n",
       "      <th>F</th>\n",
       "    </tr>\n",
       "    <tr>\n",
       "      <th>Gender</th>\n",
       "      <th></th>\n",
       "      <th></th>\n",
       "      <th></th>\n",
       "      <th></th>\n",
       "      <th></th>\n",
       "      <th></th>\n",
       "    </tr>\n",
       "  </thead>\n",
       "  <tbody>\n",
       "    <tr>\n",
       "      <th>Female</th>\n",
       "      <td>39.0</td>\n",
       "      <td>79.0</td>\n",
       "      <td>45.0</td>\n",
       "      <td>53.0</td>\n",
       "      <td>32.0</td>\n",
       "      <td>35.0</td>\n",
       "    </tr>\n",
       "    <tr>\n",
       "      <th>Male</th>\n",
       "      <td>61.0</td>\n",
       "      <td>32.0</td>\n",
       "      <td>48.0</td>\n",
       "      <td>93.0</td>\n",
       "      <td>58.0</td>\n",
       "      <td>84.0</td>\n",
       "    </tr>\n",
       "  </tbody>\n",
       "</table>\n",
       "</div>"
      ],
      "text/plain": [
       "       book_length_read                              \n",
       "cell                  A     B     C     D     E     F\n",
       "Gender                                               \n",
       "Female             39.0  79.0  45.0  53.0  32.0  35.0\n",
       "Male               61.0  32.0  48.0  93.0  58.0  84.0"
      ]
     },
     "execution_count": 78,
     "metadata": {},
     "output_type": "execute_result"
    }
   ],
   "source": [
    "# pages read by gender and cell\n",
    "filtered.groupby(['Gender','cell']).agg({'book_length_read': 'mean'}).round().unstack()"
   ]
  },
  {
   "cell_type": "code",
   "execution_count": 79,
   "metadata": {},
   "outputs": [
    {
     "data": {
      "image/png": "[encoded data removed]",
      "text/plain": [
       "<Figure size 864x432 with 1 Axes>"
      ]
     },
     "metadata": {},
     "output_type": "display_data"
    }
   ],
   "source": [
    "# Books borrowed by age\n",
    "fig = plt.figure(figsize = (12,6))\n",
    "ax = fig.add_axes([0,0,1,1])\n",
    "ax.bar(age_filt.index, \"number_of_times_books_were_borrowed\", data = age_filt)\n",
    "plt.xlabel('Age', fontsize = 12)\n",
    "plt.ylabel('Number of books borrowed', fontsize = 12)\n",
    "plt.title('Number of books borrowed by age', fontsize = 20)\n",
    "plt.show()"
   ]
  },
  {
   "cell_type": "code",
   "execution_count": 80,
   "metadata": {},
   "outputs": [
    {
     "data": {
      "image/png": "[encoded data removed]",
      "text/plain": [
       "<Figure size 864x432 with 1 Axes>"
      ]
     },
     "metadata": {},
     "output_type": "display_data"
    }
   ],
   "source": [
    "# Average number of pages read by age\n",
    "fig = plt.figure(figsize = (12,6))\n",
    "ax = fig.add_axes([0,0,1,1])\n",
    "ax.bar(age_filt.index, \"book_length_read\", data = age_filt)\n",
    "plt.xlabel('Age', fontsize = 12)\n",
    "plt.ylabel('mean book lenght read', fontsize = 12)\n",
    "plt.title('Average number of pages read by age', fontsize = 20)\n",
    "plt.show()"
   ]
  },
  {
   "cell_type": "markdown",
   "metadata": {},
   "source": [
    "The majority of books borrowed were in the afternoons and returned mostly in the mornings. Looking overall at the data, female campers borrowed more books but on average boys read more book pages. If this is further broken down into subgroups, it can be seen that there isn't much difference in the number of books borrowed and pages read. It can also be seen that the borrowing based on age is well distributed. However, borrowing more books as seen in the data doesn't mean reading more."
   ]
  },
  {
   "cell_type": "code",
   "execution_count": 81,
   "metadata": {
    "scrolled": false
   },
   "outputs": [
    {
     "data": {
      "text/html": [
       "<div>\n",
       "<style scoped>\n",
       "    .dataframe tbody tr th:only-of-type {\n",
       "        vertical-align: middle;\n",
       "    }\n",
       "\n",
       "    .dataframe tbody tr th {\n",
       "        vertical-align: top;\n",
       "    }\n",
       "\n",
       "    .dataframe thead th {\n",
       "        text-align: right;\n",
       "    }\n",
       "</style>\n",
       "<table border=\"1\" class=\"dataframe\">\n",
       "  <thead>\n",
       "    <tr style=\"text-align: right;\">\n",
       "      <th></th>\n",
       "      <th></th>\n",
       "      <th>cell</th>\n",
       "      <th>book_length_read</th>\n",
       "    </tr>\n",
       "    <tr>\n",
       "      <th>days_borrowed</th>\n",
       "      <th>cell</th>\n",
       "      <th></th>\n",
       "      <th></th>\n",
       "    </tr>\n",
       "  </thead>\n",
       "  <tbody>\n",
       "    <tr>\n",
       "      <th rowspan=\"6\" valign=\"top\">Wednesday</th>\n",
       "      <th>F</th>\n",
       "      <td>3</td>\n",
       "      <td>50.000000</td>\n",
       "    </tr>\n",
       "    <tr>\n",
       "      <th>E</th>\n",
       "      <td>7</td>\n",
       "      <td>18.285714</td>\n",
       "    </tr>\n",
       "    <tr>\n",
       "      <th>D</th>\n",
       "      <td>4</td>\n",
       "      <td>127.750000</td>\n",
       "    </tr>\n",
       "    <tr>\n",
       "      <th>C</th>\n",
       "      <td>5</td>\n",
       "      <td>14.800000</td>\n",
       "    </tr>\n",
       "    <tr>\n",
       "      <th>B</th>\n",
       "      <td>1</td>\n",
       "      <td>10.000000</td>\n",
       "    </tr>\n",
       "    <tr>\n",
       "      <th>A</th>\n",
       "      <td>5</td>\n",
       "      <td>48.000000</td>\n",
       "    </tr>\n",
       "    <tr>\n",
       "      <th rowspan=\"6\" valign=\"top\">Tuesday</th>\n",
       "      <th>F</th>\n",
       "      <td>3</td>\n",
       "      <td>14.333333</td>\n",
       "    </tr>\n",
       "    <tr>\n",
       "      <th>E</th>\n",
       "      <td>10</td>\n",
       "      <td>33.200000</td>\n",
       "    </tr>\n",
       "    <tr>\n",
       "      <th>D</th>\n",
       "      <td>6</td>\n",
       "      <td>59.166667</td>\n",
       "    </tr>\n",
       "    <tr>\n",
       "      <th>C</th>\n",
       "      <td>3</td>\n",
       "      <td>66.666667</td>\n",
       "    </tr>\n",
       "    <tr>\n",
       "      <th>B</th>\n",
       "      <td>5</td>\n",
       "      <td>47.600000</td>\n",
       "    </tr>\n",
       "    <tr>\n",
       "      <th>A</th>\n",
       "      <td>5</td>\n",
       "      <td>35.000000</td>\n",
       "    </tr>\n",
       "    <tr>\n",
       "      <th rowspan=\"4\" valign=\"top\">Thursday</th>\n",
       "      <th>F</th>\n",
       "      <td>1</td>\n",
       "      <td>35.000000</td>\n",
       "    </tr>\n",
       "    <tr>\n",
       "      <th>E</th>\n",
       "      <td>4</td>\n",
       "      <td>47.250000</td>\n",
       "    </tr>\n",
       "    <tr>\n",
       "      <th>C</th>\n",
       "      <td>1</td>\n",
       "      <td>24.000000</td>\n",
       "    </tr>\n",
       "    <tr>\n",
       "      <th>B</th>\n",
       "      <td>2</td>\n",
       "      <td>135.000000</td>\n",
       "    </tr>\n",
       "    <tr>\n",
       "      <th rowspan=\"6\" valign=\"top\">Monday</th>\n",
       "      <th>F</th>\n",
       "      <td>8</td>\n",
       "      <td>74.250000</td>\n",
       "    </tr>\n",
       "    <tr>\n",
       "      <th>E</th>\n",
       "      <td>8</td>\n",
       "      <td>66.000000</td>\n",
       "    </tr>\n",
       "    <tr>\n",
       "      <th>D</th>\n",
       "      <td>8</td>\n",
       "      <td>65.500000</td>\n",
       "    </tr>\n",
       "    <tr>\n",
       "      <th>C</th>\n",
       "      <td>9</td>\n",
       "      <td>66.222222</td>\n",
       "    </tr>\n",
       "    <tr>\n",
       "      <th>B</th>\n",
       "      <td>6</td>\n",
       "      <td>44.833333</td>\n",
       "    </tr>\n",
       "    <tr>\n",
       "      <th>A</th>\n",
       "      <td>7</td>\n",
       "      <td>61.000000</td>\n",
       "    </tr>\n",
       "    <tr>\n",
       "      <th rowspan=\"5\" valign=\"top\">Friday</th>\n",
       "      <th>F</th>\n",
       "      <td>3</td>\n",
       "      <td>68.666667</td>\n",
       "    </tr>\n",
       "    <tr>\n",
       "      <th>E</th>\n",
       "      <td>3</td>\n",
       "      <td>16.000000</td>\n",
       "    </tr>\n",
       "    <tr>\n",
       "      <th>D</th>\n",
       "      <td>1</td>\n",
       "      <td>20.000000</td>\n",
       "    </tr>\n",
       "    <tr>\n",
       "      <th>C</th>\n",
       "      <td>2</td>\n",
       "      <td>20.000000</td>\n",
       "    </tr>\n",
       "    <tr>\n",
       "      <th>B</th>\n",
       "      <td>1</td>\n",
       "      <td>24.000000</td>\n",
       "    </tr>\n",
       "  </tbody>\n",
       "</table>\n",
       "</div>"
      ],
      "text/plain": [
       "                    cell  book_length_read\n",
       "days_borrowed cell                        \n",
       "Wednesday     F        3         50.000000\n",
       "              E        7         18.285714\n",
       "              D        4        127.750000\n",
       "              C        5         14.800000\n",
       "              B        1         10.000000\n",
       "              A        5         48.000000\n",
       "Tuesday       F        3         14.333333\n",
       "              E       10         33.200000\n",
       "              D        6         59.166667\n",
       "              C        3         66.666667\n",
       "              B        5         47.600000\n",
       "              A        5         35.000000\n",
       "Thursday      F        1         35.000000\n",
       "              E        4         47.250000\n",
       "              C        1         24.000000\n",
       "              B        2        135.000000\n",
       "Monday        F        8         74.250000\n",
       "              E        8         66.000000\n",
       "              D        8         65.500000\n",
       "              C        9         66.222222\n",
       "              B        6         44.833333\n",
       "              A        7         61.000000\n",
       "Friday        F        3         68.666667\n",
       "              E        3         16.000000\n",
       "              D        1         20.000000\n",
       "              C        2         20.000000\n",
       "              B        1         24.000000"
      ]
     },
     "execution_count": 81,
     "metadata": {},
     "output_type": "execute_result"
    }
   ],
   "source": [
    "# The books read daily by cell\n",
    "cell_seor = filtered.groupby(['days_borrowed', 'cell']).agg({'cell':'count', 'book_length_read': 'mean'})\\\n",
    "                                                        .sort_index(ascending = False)\n",
    "cell_seor"
   ]
  },
  {
   "cell_type": "code",
   "execution_count": 82,
   "metadata": {
    "scrolled": false
   },
   "outputs": [
    {
     "data": {
      "text/html": [
       "<div>\n",
       "<style scoped>\n",
       "    .dataframe tbody tr th:only-of-type {\n",
       "        vertical-align: middle;\n",
       "    }\n",
       "\n",
       "    .dataframe tbody tr th {\n",
       "        vertical-align: top;\n",
       "    }\n",
       "\n",
       "    .dataframe thead th {\n",
       "        text-align: right;\n",
       "    }\n",
       "</style>\n",
       "<table border=\"1\" class=\"dataframe\">\n",
       "  <thead>\n",
       "    <tr style=\"text-align: right;\">\n",
       "      <th></th>\n",
       "      <th>cell</th>\n",
       "      <th>book_length_read</th>\n",
       "    </tr>\n",
       "    <tr>\n",
       "      <th>cell</th>\n",
       "      <th></th>\n",
       "      <th></th>\n",
       "    </tr>\n",
       "  </thead>\n",
       "  <tbody>\n",
       "    <tr>\n",
       "      <th>E</th>\n",
       "      <td>32</td>\n",
       "      <td>38.0</td>\n",
       "    </tr>\n",
       "    <tr>\n",
       "      <th>C</th>\n",
       "      <td>20</td>\n",
       "      <td>47.0</td>\n",
       "    </tr>\n",
       "    <tr>\n",
       "      <th>A</th>\n",
       "      <td>17</td>\n",
       "      <td>50.0</td>\n",
       "    </tr>\n",
       "    <tr>\n",
       "      <th>B</th>\n",
       "      <td>15</td>\n",
       "      <td>54.0</td>\n",
       "    </tr>\n",
       "    <tr>\n",
       "      <th>F</th>\n",
       "      <td>18</td>\n",
       "      <td>57.0</td>\n",
       "    </tr>\n",
       "    <tr>\n",
       "      <th>D</th>\n",
       "      <td>19</td>\n",
       "      <td>74.0</td>\n",
       "    </tr>\n",
       "  </tbody>\n",
       "</table>\n",
       "</div>"
      ],
      "text/plain": [
       "      cell  book_length_read\n",
       "cell                        \n",
       "E       32              38.0\n",
       "C       20              47.0\n",
       "A       17              50.0\n",
       "B       15              54.0\n",
       "F       18              57.0\n",
       "D       19              74.0"
      ]
     },
     "execution_count": 82,
     "metadata": {},
     "output_type": "execute_result"
    }
   ],
   "source": [
    "# The books read by cell\n",
    "cell_borrowed = filtered.groupby('cell').agg({'cell':'count', 'book_length_read': 'mean'})\\\n",
    "                                    .sort_values('book_length_read')\\\n",
    "                                    .round()\n",
    "cell_borrowed"
   ]
  },
  {
   "cell_type": "code",
   "execution_count": 83,
   "metadata": {
    "scrolled": false
   },
   "outputs": [
    {
     "data": {
      "image/png": "[encoded data removed]",
      "text/plain": [
       "<Figure size 864x432 with 1 Axes>"
      ]
     },
     "metadata": {},
     "output_type": "display_data"
    }
   ],
   "source": [
    "# Graph showing the total number of books borrowed by cell\n",
    "fig = plt.figure(figsize = (12,6))\n",
    "ax = fig.add_axes([0,0,1,1])\n",
    "ax.bar(cell_borrowed.index, \"cell\", data = cell_borrowed)\n",
    "plt.xlabel('Cell', fontsize = 12)\n",
    "plt.ylabel('Number of books borrowed', fontsize = 12)\n",
    "plt.title('Total number of books borrowed by each cell', fontsize = 20)\n",
    "plt.show()"
   ]
  },
  {
   "cell_type": "code",
   "execution_count": 84,
   "metadata": {},
   "outputs": [
    {
     "data": {
      "image/png": "[encoded data removed]",
      "text/plain": [
       "<Figure size 864x432 with 1 Axes>"
      ]
     },
     "metadata": {},
     "output_type": "display_data"
    }
   ],
   "source": [
    "# Graph showing the total pages read by cell\n",
    "fig = plt.figure(figsize = (12,6))\n",
    "ax = fig.add_axes([0,0,1,1])\n",
    "ax.bar(cell_borrowed.index, \"book_length_read\", data = cell_borrowed)\n",
    "plt.xlabel('Cell', fontsize = 12)\n",
    "plt.ylabel('Average books read', fontsize = 12)\n",
    "plt.title('Average number of pages read by each cell', fontsize = 20)\n",
    "plt.show()"
   ]
  },
  {
   "cell_type": "markdown",
   "metadata": {},
   "source": [
    "Looking at the books borrowed and pages read based of the cells campers were allocated it shows that just as seen from the age perspective, the number of books borrowed do not determine how many pages or how much you have read "
   ]
  },
  {
   "cell_type": "code",
   "execution_count": 85,
   "metadata": {},
   "outputs": [
    {
     "data": {
      "image/png": "[encoded data removed]",
      "text/plain": [
       "<Figure size 864x432 with 1 Axes>"
      ]
     },
     "metadata": {},
     "output_type": "display_data"
    }
   ],
   "source": [
    "# Book borrowed by age\n",
    "fig = plt.figure(figsize = (12,6))\n",
    "sns.countplot(x = age_gender.Age)\n",
    "plt.xlabel('Cell', fontsize = 12)\n",
    "plt.ylabel('Books read by age', fontsize = 12)\n",
    "plt.title('Average number of pages read by age', fontsize = 20)\n",
    "plt.show()"
   ]
  },
  {
   "cell_type": "code",
   "execution_count": 88,
   "metadata": {},
   "outputs": [
    {
     "data": {
      "image/png": "[encoded data removed]",
      "text/plain": [
       "<Figure size 864x432 with 1 Axes>"
      ]
     },
     "metadata": {},
     "output_type": "display_data"
    }
   ],
   "source": [
    "# Amount of books borrowed each day\n",
    "fig = plt.figure(figsize = (12,6))\n",
    "sns.countplot(x = filtered['days_borrowed'])\n",
    "plt.xlabel('Camp days', fontsize = 12)\n",
    "plt.ylabel('Number of books borrowed', fontsize = 12)\n",
    "plt.title('Number of books borrowed per day', fontsize = 20)\n",
    "plt.show()"
   ]
  },
  {
   "cell_type": "code",
   "execution_count": 89,
   "metadata": {
    "scrolled": false
   },
   "outputs": [
    {
     "data": {
      "image/png": "[encoded data removed]",
      "text/plain": [
       "<Figure size 864x432 with 1 Axes>"
      ]
     },
     "metadata": {},
     "output_type": "display_data"
    }
   ],
   "source": [
    "# Amount of books borrowed each day\n",
    "fig = plt.figure(figsize = (12,6))\n",
    "sns.lineplot(x = 'days_borrowed', y = 'book_length_read', data = filtered, ci = None)\n",
    "plt.xlabel('Camp days', fontsize = 12)\n",
    "plt.ylabel('Number of pages read', fontsize = 12)\n",
    "plt.title('Number of books pages read per day', fontsize = 20)\n",
    "plt.show()"
   ]
  },
  {
   "cell_type": "markdown",
   "metadata": {},
   "source": [
    "### Conclusion\n",
    "\n",
    "There are no conclusions or conjectures to be made from this dataset because firstly there are certain conditions that were not captured perfectly while the camp was open, secondly it cannot be used to gauge or determine the reading habits of the campers or children in general if considered in a different enviroment and given that the camp is unique in its setup. The main focus of the camp is reading and building reading habits. It can however be said that the data gives insight into what was reading habits of the campers given their age gender and groups they were distributed and to a certian extent the attitude of the campers to reading during the camping exercise.  "
   ]
  },
  {
   "cell_type": "code",
   "execution_count": null,
   "metadata": {},
   "outputs": [],
   "source": []
  }
 ],
 "metadata": {
  "kernelspec": {
   "display_name": "Python 3 (ipykernel)",
   "language": "python",
   "name": "python3"
  },
  "language_info": {
   "codemirror_mode": {
    "name": "ipython",
    "version": 3
   },
   "file_extension": ".py",
   "mimetype": "text/x-python",
   "name": "python",
   "nbconvert_exporter": "python",
   "pygments_lexer": "ipython3",
   "version": "3.9.7"
  }
 },
 "nbformat": 4,
 "nbformat_minor": 4
}
